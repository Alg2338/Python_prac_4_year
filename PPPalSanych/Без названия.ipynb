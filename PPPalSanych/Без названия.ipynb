{
 "cells": [
  {
   "cell_type": "code",
   "execution_count": null,
   "id": "0ae10602",
   "metadata": {},
   "outputs": [],
   "source": [
    "import re \n",
    "text = open ( \"1.txt \" , \"r\" )\n",
    "regexp = \"d\"\n",
    "\n",
    "substitute = \"a\"\n",
    "result = re.sub(regexp, substitute, text )\n",
    "print(result)"
   ]
  }
 ],
 "metadata": {
  "kernelspec": {
   "display_name": "Python 3 (ipykernel)",
   "language": "python",
   "name": "python3"
  },
  "language_info": {
   "codemirror_mode": {
    "name": "ipython",
    "version": 3
   },
   "file_extension": ".py",
   "mimetype": "text/x-python",
   "name": "python",
   "nbconvert_exporter": "python",
   "pygments_lexer": "ipython3",
   "version": "3.9.14"
  }
 },
 "nbformat": 4,
 "nbformat_minor": 5
}
