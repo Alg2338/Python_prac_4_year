{
 "cells": [
  {
   "cell_type": "code",
   "execution_count": null,
   "id": "5a8e345d",
   "metadata": {},
   "outputs": [],
   "source": []
  },
  {
   "cell_type": "markdown",
   "id": "44030962",
   "metadata": {},
   "source": [
    "# Задание 1"
   ]
  },
  {
   "cell_type": "code",
   "execution_count": 375,
   "id": "69c98c90",
   "metadata": {},
   "outputs": [],
   "source": [
    "from fake_useragent import UserAgent\n",
    "import urllib.request\n",
    "\n",
    "ua = UserAgent()\n",
    "\n",
    "\n",
    "url = 'https://en.wikipedia.org/wiki/List_of_Moscow_Metro_stations'\n",
    "headers ={ \"User-Agent\" : str(ua.chrome) }\n",
    "req = urllib.request.Request(url, None, headers)\n",
    "fp = urllib.request.urlopen(req)\n",
    "\n",
    "text = fp.read()\n",
    "text = text.decode(\"utf8\")\n",
    "\n",
    "fp.close()"
   ]
  },
  {
   "cell_type": "code",
   "execution_count": 376,
   "id": "89610e80",
   "metadata": {},
   "outputs": [],
   "source": [
    "from bs4 import BeautifulSoup\n",
    "import numpy as np\n",
    "\n",
    "\n",
    "soup = BeautifulSoup(text, 'html.parser')\n",
    "\n",
    "unhandled_stations = soup.find(\"table\", class_=\"wikitable sortable\").tbody.find_all(\"tr\")[1:]\n",
    "# for group in groups_by_letters:\n",
    "#     for scientist in group.find_all('a'):\n",
    "#         scientists_names.append(scientist[\"title\"])\n",
    "#         scientists_links.append(\"https://en.wikipedia.org/\" + scientist[\"href\"])\n",
    "\n"
   ]
  },
  {
   "cell_type": "code",
   "execution_count": 377,
   "id": "15faab33",
   "metadata": {},
   "outputs": [],
   "source": [
    "import re"
   ]
  },
  {
   "cell_type": "code",
   "execution_count": 378,
   "id": "af00a56c",
   "metadata": {},
   "outputs": [],
   "source": [
    "def StationFormatter(station):\n",
    "    '''Example: Transfer for #1 Sokolnicheskaya line at Bulvar Rokossovskogo'''\n",
    "    station = re.findall('(\\d+\\w*) (.*)', station)[0]\n",
    "    line = station[0]\n",
    "    name = station[1].split('at ')[1].split(' via')[0].split(')')[0]\n",
    "    \n",
    "    if line == '4A' or line == '11A':\n",
    "        return None\n",
    "    return {'name': name, 'line': line}\n",
    "    \n",
    "\n",
    "def ExtractStationData(station_tag):\n",
    "    fields_tags = station_tag.find_all(\"td\")\n",
    "    name = fields_tags[0].a['title'].split(' (')[0]\n",
    "    line = re.findall('(\\d+\\w*)', station_tag.th.a[\"title\"])[0]\n",
    "    \n",
    "    \n",
    "    opened = fields_tags[3].text.replace(\"\\n\", \"\")\n",
    "    coords = fields_tags[-1]\n",
    "    coords = np.array(coords.span.a.find(class_='vcard').find(class_='geo').contents[0].split(';'), dtype=float)\n",
    "    latitude = float(coords[0])\n",
    "    longtitude = float(coords[1])\n",
    "    \n",
    "    transfers = []\n",
    "    for transfer in fields_tags[2].find_all('span'):\n",
    "#         transfers.append(StationFormatter())\n",
    "        span = transfer.span\n",
    "        if span:\n",
    "            transfer = StationFormatter(span['title'])\n",
    "            if transfer:\n",
    "                transfers.append(transfer)\n",
    "    \n",
    "    if line == '4A' or line == '11A':\n",
    "        return None\n",
    "        \n",
    "    return {'name': name, 'line': line, 'opened': opened, \n",
    "            'latitude': latitude, 'longtitude': longtitude, 'connects': [], 'transfers': transfers}"
   ]
  },
  {
   "cell_type": "code",
   "execution_count": 379,
   "id": "07463dd2",
   "metadata": {},
   "outputs": [],
   "source": [
    "stations = []\n",
    "\n",
    "j = 0\n",
    "for i in range(len(unhandled_stations)):\n",
    "    curr_station = ExtractStationData(unhandled_stations[i])\n",
    "    if curr_station:\n",
    "        stations.append(curr_station)\n",
    "\n",
    "        if (j > 0) and (stations[j]['line'] == stations[j - 1]['line']):\n",
    "            stations[j]['connects'].append(stations[j - 1]['name'])\n",
    "            stations[j - 1]['connects'].append(stations[j]['name'])\n",
    "        j += 1"
   ]
  },
  {
   "cell_type": "code",
   "execution_count": 380,
   "id": "07fa6ecc",
   "metadata": {},
   "outputs": [],
   "source": [
    "import yaml\n",
    "\n",
    "with open(r'Stations.yaml', 'w') as file:\n",
    "    documents = yaml.dump(stations, file)"
   ]
  },
  {
   "cell_type": "markdown",
   "id": "770ab031",
   "metadata": {},
   "source": [
    "# Задание 2"
   ]
  },
  {
   "cell_type": "code",
   "execution_count": 381,
   "id": "629d9e9a",
   "metadata": {},
   "outputs": [],
   "source": [
    "import configparser\n",
    "\n",
    "config = configparser.ConfigParser()\n",
    "# config.readfp(open(r'config.txt'))\n",
    "config.read_file(open('config.txt'))\n",
    "v = float(config.get('config', 'v'))\n",
    "t_tr = float(config.get('config', 't_tr'))\n",
    "t_st = float(config.get('config', 't_st'))\n",
    "transfer_time_file = config.get('config', 'transfer_time_file')"
   ]
  },
  {
   "cell_type": "code",
   "execution_count": 382,
   "id": "065bc5eb",
   "metadata": {},
   "outputs": [
    {
     "data": {
      "text/plain": [
       "(55.0, 2.0, 2.0, 'transfers_time.txt')"
      ]
     },
     "execution_count": 382,
     "metadata": {},
     "output_type": "execute_result"
    }
   ],
   "source": [
    "v, t_tr, t_st, transfer_time_file"
   ]
  },
  {
   "cell_type": "code",
   "execution_count": 383,
   "id": "2778dcef",
   "metadata": {},
   "outputs": [],
   "source": [
    "from math import acos, sin, cos"
   ]
  },
  {
   "cell_type": "code",
   "execution_count": 384,
   "id": "d1afb45d",
   "metadata": {},
   "outputs": [],
   "source": [
    "def CountConnectTime(v, t_st, longtitude1, latitude1, longtitude2, latitude2):\n",
    "    return acos(sin(latitude1)*sin(latitude2)+cos(latitude1)*cos(latitude2)*cos(longtitude2-longtitude1))*6371 / v + t_st "
   ]
  },
  {
   "cell_type": "code",
   "execution_count": 430,
   "id": "940d0f9f",
   "metadata": {},
   "outputs": [],
   "source": [
    "specified_transfer_times = {}\n",
    "\n",
    "with open(transfer_time_file) as stream:    \n",
    "    lines = stream.readlines()\n",
    "    for line in lines:\n",
    "        curr_transf = line.split('; ')\n",
    "        time = float(curr_transf[2])\n",
    "        first_line = curr_transf[0]\n",
    "        second_line = curr_transf[1]\n",
    "        specified_transfer_times[(first_line, second_line)] = time\n",
    "        specified_transfer_times[(second_line, first_line)] = time"
   ]
  },
  {
   "cell_type": "code",
   "execution_count": 431,
   "id": "2e645baa",
   "metadata": {},
   "outputs": [],
   "source": [
    "stations = []\n",
    "\n",
    "with open(r'Stations.yaml') as stream:    \n",
    "    stations = yaml.safe_load(stream)\n",
    "    \n",
    "\n",
    "    \n",
    "\n",
    "    \n",
    "stations_counter = 0\n",
    "station_nums = {}\n",
    "\n",
    "\n",
    "\n",
    "\n",
    "# numerate stations\n",
    "for station in stations:\n",
    "#     print(station['line'])\n",
    "    name = station['name'] + ', ' + station['line']\n",
    "    stations_counter += 1\n",
    "    station_nums[name] = stations_counter\n",
    "\n",
    "# add edges\n",
    "edges = []\n",
    "\n",
    "\n",
    "for i in range(stations_counter):\n",
    "    station = stations[i]\n",
    "    first_name = station['name'] + ', ' + station['line']\n",
    "    line = station['line']\n",
    "    \n",
    "    for second_station in station['transfers']:\n",
    "        second_name = second_station['name'] + ', ' + second_station['line']\n",
    "        if (first_name, second_name) in specified_transfer_times:\n",
    "            edges.append((first_name, second_name, specified_transfer_times[(first_name, second_name)]))\n",
    "        else:\n",
    "            edges.append((first_name, second_name, t_tr))\n",
    "    \n",
    "    if i and line == stations[i - 1]['line']:\n",
    "        second_name = stations[i - 1]['name'] + ', ' + stations[i - 1]['line']\n",
    "        longtitude1, latitude1 = station['longtitude'], station['latitude']\n",
    "        longtitude2, latitude2 = stations[i - 1]['longtitude'], stations[i - 1]['latitude']\n",
    "        edges.append((first_name, second_name, \n",
    "                      CountConnectTime(v, t_st, longtitude1, latitude1, longtitude2, latitude2)))\n",
    "    \n",
    "    if i < stations_counter - 1 and line == stations[i + 1]['line']:\n",
    "        second_name = stations[i + 1]['name'] + ', ' + stations[i + 1]['line']\n",
    "        longtitude1, latitude1 = station['longtitude'], station['latitude']\n",
    "        longtitude2, latitude2 = stations[i + 1]['longtitude'], stations[i + 1]['latitude']\n",
    "        edges.append((first_name, second_name, \n",
    "                      CountConnectTime(v, t_st, longtitude1, latitude1, longtitude2, latitude2))) "
   ]
  },
  {
   "cell_type": "code",
   "execution_count": 432,
   "id": "9eee358f",
   "metadata": {},
   "outputs": [],
   "source": [
    "with open(\"SubWays.tgf\", \"w\") as fp:\n",
    "    for station in station_nums:\n",
    "#         print(station)\n",
    "        fp.write(str(station_nums[station]) + \" \\\"\" + str(station) + \"\\\"\" + \"\\n\")\n",
    "    \n",
    "    fp.write(\"#\\n\")\n",
    "    \n",
    "    for edge in edges:\n",
    "        fp.write(str(station_nums[edge[0]]) + \" \" + str(station_nums[edge[1]]) + \" \" + str(edge[2]) + \"\\n\")\n",
    "          \n",
    "    "
   ]
  },
  {
   "cell_type": "markdown",
   "id": "0604873b",
   "metadata": {},
   "source": [
    "# Задание 3"
   ]
  },
  {
   "cell_type": "code",
   "execution_count": 433,
   "id": "a1324544",
   "metadata": {},
   "outputs": [],
   "source": [
    "import numpy as np"
   ]
  },
  {
   "cell_type": "code",
   "execution_count": 434,
   "id": "7a807b33",
   "metadata": {},
   "outputs": [],
   "source": [
    "lines = []\n",
    "with open(\"SubWays.tgf\", \"r\") as fp:\n",
    "    lines = fp.readlines()"
   ]
  },
  {
   "cell_type": "code",
   "execution_count": 435,
   "id": "419bc3f1",
   "metadata": {},
   "outputs": [],
   "source": [
    "N = lines.index('#\\n')\n",
    "W = np.ones((N, N)) * np.inf\n",
    "\n",
    "for i in range(N + 1, len(lines)):\n",
    "    edge = lines[i].split()\n",
    "#     print(int(edge[0]) - 1, int(edge[1]) - 1)\n",
    "    W[int(edge[0]) - 1][int(edge[1]) - 1] = float(edge[2])\n",
    "\n",
    "for i in range(N):\n",
    "    W[i][i] = 0."
   ]
  },
  {
   "cell_type": "code",
   "execution_count": 436,
   "id": "f875aacc",
   "metadata": {},
   "outputs": [
    {
     "data": {
      "text/plain": [
       "array([[0.        , 3.56418664,        inf, ...,        inf,        inf,\n",
       "               inf],\n",
       "       [3.56418664, 0.        , 4.66596147, ...,        inf,        inf,\n",
       "               inf],\n",
       "       [       inf, 4.66596147, 0.        , ...,        inf,        inf,\n",
       "               inf],\n",
       "       ...,\n",
       "       [       inf,        inf,        inf, ..., 0.        , 3.64933369,\n",
       "               inf],\n",
       "       [       inf,        inf,        inf, ..., 3.64933369, 0.        ,\n",
       "        4.08312841],\n",
       "       [       inf,        inf,        inf, ...,        inf, 4.08312841,\n",
       "        0.        ]])"
      ]
     },
     "execution_count": 436,
     "metadata": {},
     "output_type": "execute_result"
    }
   ],
   "source": [
    "W"
   ]
  },
  {
   "cell_type": "code",
   "execution_count": 437,
   "id": "86d8d0f6",
   "metadata": {},
   "outputs": [],
   "source": [
    "d = W\n",
    "\n",
    "for k in range(N):\n",
    "    for i in range(N):\n",
    "        for j in range(N):\n",
    "            d[i][j] = min(d[i][j], d[i][k] + d[k][j])\n",
    "\n",
    "\n"
   ]
  },
  {
   "cell_type": "code",
   "execution_count": 438,
   "id": "f956ece8",
   "metadata": {},
   "outputs": [
    {
     "data": {
      "text/plain": [
       "62.297991490370066"
      ]
     },
     "execution_count": 438,
     "metadata": {},
     "output_type": "execute_result"
    }
   ],
   "source": [
    "d.mean() "
   ]
  },
  {
   "cell_type": "code",
   "execution_count": 439,
   "id": "83856212",
   "metadata": {},
   "outputs": [],
   "source": [
    "mean_times = d.mean(axis = 1)"
   ]
  },
  {
   "cell_type": "code",
   "execution_count": 440,
   "id": "1e4af8dc",
   "metadata": {},
   "outputs": [],
   "source": [
    "from matplotlib.pyplot import hist"
   ]
  },
  {
   "cell_type": "code",
   "execution_count": 441,
   "id": "89a0a006",
   "metadata": {},
   "outputs": [
    {
     "data": {
      "text/plain": [
       "(array([150.,  72.,  34.,   6.,   4.,   5.,   4.,   1.,   0.,   6.]),\n",
       " array([ 37.99381883,  54.67758467,  71.36135051,  88.04511634,\n",
       "        104.72888218, 121.41264801, 138.09641385, 154.78017969,\n",
       "        171.46394552, 188.14771136, 204.8314772 ]),\n",
       " <BarContainer object of 10 artists>)"
      ]
     },
     "execution_count": 441,
     "metadata": {},
     "output_type": "execute_result"
    },
    {
     "data": {
      "image/png": "[encoded data removed]",
      "text/plain": [
       "<Figure size 432x288 with 1 Axes>"
      ]
     },
     "metadata": {
      "needs_background": "light"
     },
     "output_type": "display_data"
    }
   ],
   "source": [
    "hist(mean_times)"
   ]
  },
  {
   "cell_type": "markdown",
   "id": "7b308ca1",
   "metadata": {},
   "source": [
    "# Задание 4"
   ]
  },
  {
   "cell_type": "code",
   "execution_count": 393,
   "id": "1c41e85d",
   "metadata": {},
   "outputs": [
    {
     "ename": "ValueError",
     "evalue": "-4 is not in list",
     "output_type": "error",
     "traceback": [
      "\u001b[0;31m---------------------------------------------------------------------------\u001b[0m",
      "\u001b[0;31mValueError\u001b[0m                                Traceback (most recent call last)",
      "\u001b[0;32m/var/folders/0d/fdvk5hp56lq450pk9_rf7dsh0000gn/T/ipykernel_45333/1506960349.py\u001b[0m in \u001b[0;36m<module>\u001b[0;34m\u001b[0m\n\u001b[0;32m----> 1\u001b[0;31m \u001b[0;34m[\u001b[0m\u001b[0;36m1\u001b[0m\u001b[0;34m,\u001b[0m\u001b[0;36m2\u001b[0m\u001b[0;34m,\u001b[0m\u001b[0;36m3\u001b[0m\u001b[0;34m,\u001b[0m\u001b[0;36m4\u001b[0m\u001b[0;34m,\u001b[0m\u001b[0;36m5\u001b[0m\u001b[0;34m]\u001b[0m\u001b[0;34m.\u001b[0m\u001b[0mindex\u001b[0m\u001b[0;34m(\u001b[0m\u001b[0;34m-\u001b[0m\u001b[0;36m4\u001b[0m\u001b[0;34m)\u001b[0m\u001b[0;34m\u001b[0m\u001b[0;34m\u001b[0m\u001b[0m\n\u001b[0m",
      "\u001b[0;31mValueError\u001b[0m: -4 is not in list"
     ]
    }
   ],
   "source": [
    "[1,2,3,4,5].index(-4)"
   ]
  },
  {
   "cell_type": "code",
   "execution_count": 394,
   "id": "213c4033",
   "metadata": {},
   "outputs": [
    {
     "data": {
      "text/plain": [
       "array([0., 0., 0., 0.])"
      ]
     },
     "execution_count": 394,
     "metadata": {},
     "output_type": "execute_result"
    }
   ],
   "source": [
    "np.zeros(4)"
   ]
  },
  {
   "cell_type": "code",
   "execution_count": null,
   "id": "d5fff38f",
   "metadata": {},
   "outputs": [],
   "source": []
  },
  {
   "cell_type": "code",
   "execution_count": null,
   "id": "6c20c550",
   "metadata": {},
   "outputs": [],
   "source": []
  }
 ],
 "metadata": {
  "kernelspec": {
   "display_name": "Python 3 (ipykernel)",
   "language": "python",
   "name": "python3"
  },
  "language_info": {
   "codemirror_mode": {
    "name": "ipython",
    "version": 3
   },
   "file_extension": ".py",
   "mimetype": "text/x-python",
   "name": "python",
   "nbconvert_exporter": "python",
   "pygments_lexer": "ipython3",
   "version": "3.9.14"
  }
 },
 "nbformat": 4,
 "nbformat_minor": 5
}
