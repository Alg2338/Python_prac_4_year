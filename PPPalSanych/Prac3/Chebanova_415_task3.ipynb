{
 "cells": [
  {
   "cell_type": "markdown",
   "id": "13d8a7b4-8a0a-4848-8c5c-fa9ab0eff09d",
   "metadata": {},
   "source": [
    "<h1><center>Задание №3 по курсу «Пакеты прикладных программ»</center></h1>\n",
    "<h1><center>Вариант 1</center></h1>"
   ]
  },
  {
   "cell_type": "markdown",
   "id": "df03289d-1626-4a30-b4ce-14a8bf5cf215",
   "metadata": {},
   "source": [
    "## Задание 1.\n",
    "\n",
    "Требуется написать скрипт на языке Python, который по списку станций Московского Метрополитена (см. русскоязычную Википедию) составляет текстовый\n",
    "файл с информацией по каждой станции, включая МЦК и монорельс. Для каждой станции в файле должно быть указано:\n",
    "1. Уникальное обозначение, т.е. название, позволяющее однозначно идентифицировать станцию. Для этого к названию станции можно прибавить сокращённое название линии или её номер (например, станции \"Комсомольская\" кольцевой линии\n",
    "можно дать обозначение \"Комсомольская, кольцевая\", \"Комсомольская, КЛ\" или\n",
    "\"Комсомольская (5)\"). Обозначение должно быть человекочитаемым, то есть нельзя, например, просто занумеровать все станции и использовать в качестве обозначения номер в списке.\n",
    "2. Географические координаты (широту, долготу).\n",
    "3. Список станций, на которые осуществляется пересадка с этой станции.\n",
    "4. Список станций, до которых идут поезда от этой станции.\n",
    "5. Дату открытия.\n",
    "\n",
    "Станции, принадлежащие сразу двум линиям, надо указать два раза (как, например,\n",
    "указана станция \"Китай-город\"). Файл рекомендуется записывать в специализированных\n",
    "форматах вроде YAML, JSON или XML, с привлечением сторонней библиотеки, но допускается и использование своего формата.\n",
    "Пример записи для станции \"Тверская\" в формате YAML:  \n",
    "\n",
    "    - name: Тверская, ЗЛ  \n",
    "      opened: 20 июля 1979  \n",
    "      latitude: 55.7647  \n",
    "      longitude: 37.6065  \n",
    "      connects:  \n",
    "      - Театральная, ЗЛ  \n",
    "      - Маяковская, ЗЛ  \n",
    "      transits:  \n",
    "      - Пушкинская, ТКЛ  \n",
    "      - Чеховская, СТЛ  "
   ]
  },
  {
   "cell_type": "code",
   "execution_count": 1,
   "id": "557fac03-d540-4d37-8185-7fa555fb1234",
   "metadata": {},
   "outputs": [],
   "source": [
    "import urllib.request\n",
    "from bs4 import BeautifulSoup\n",
    "import numpy as np\n",
    "import re\n",
    "import yaml\n",
    "import matplotlib.pyplot as plt"
   ]
  },
  {
   "cell_type": "code",
   "execution_count": 2,
   "id": "ef9faf73-b518-4973-9bf6-33f7a20bf675",
   "metadata": {},
   "outputs": [],
   "source": [
    "class SubwayStation:\n",
    "    def __init__(self, name, line, opened, latitude, longtitude, connects, transits):\n",
    "        self.name = name\n",
    "        self.line = line\n",
    "        self.opened = opened\n",
    "        self.latitude = latitude\n",
    "        self.longtitude = longtitude\n",
    "        self.connects = connects\n",
    "        self.transits = transits"
   ]
  },
  {
   "cell_type": "code",
   "execution_count": 3,
   "id": "052aae94-0063-4efd-ba87-1e98a72636ea",
   "metadata": {},
   "outputs": [],
   "source": [
    "url = 'https://en.wikipedia.org/wiki/List_of_Moscow_Metro_stations'\n",
    "headers ={ \"User-Agent\" : \"Mozilla/5.0\" }\n",
    "req = urllib.request.Request(url, None, headers)\n",
    "fp = urllib.request.urlopen(req)\n",
    "\n",
    "text = fp.read()\n",
    "text = text.decode(\"utf8\")\n",
    "\n",
    "fp.close()"
   ]
  },
  {
   "cell_type": "code",
   "execution_count": 4,
   "id": "7cebd1f6-43f9-493a-a4aa-dbd1d333814e",
   "metadata": {},
   "outputs": [],
   "source": [
    "soup = BeautifulSoup(text, 'html.parser')\n",
    "\n",
    "unhandled_stations = soup.find(\"table\", class_=\"wikitable sortable\").tbody.find_all(\"tr\")[1:]"
   ]
  },
  {
   "cell_type": "code",
   "execution_count": 5,
   "id": "2269970c-47c4-433a-84d5-0f6b0a891eb3",
   "metadata": {},
   "outputs": [],
   "source": [
    "def StationFormatter(station):\n",
    "    '''Example: Transfer for #1 Sokolnicheskaya line at Bulvar Rokossovskogo'''\n",
    "    station = re.findall('(\\d+\\w*) (.*)', station)[0]\n",
    "    line = station[0]\n",
    "    name = station[1].split('at ')[1].split(' via')[0].split(')')[0]\n",
    "    \n",
    "    if line == '4A' or line == '11A':\n",
    "        return None\n",
    "    return {'name': name, 'line': line}\n",
    "    \n",
    "\n",
    "def ExtractStationData(station_tag):\n",
    "    fields_tags = station_tag.find_all(\"td\")\n",
    "    name = fields_tags[0].a['title'].split(' (')[0]\n",
    "    line = re.findall('(\\d+\\w*)', station_tag.th.a[\"title\"])[0]\n",
    "    \n",
    "    \n",
    "    opened = fields_tags[3].text.replace(\"\\n\", \"\")\n",
    "    coords = fields_tags[-1]\n",
    "    coords = np.array(coords.span.a.find(class_='vcard').find(class_='geo').contents[0].split(';'), dtype=float)\n",
    "    latitude = float(coords[0])\n",
    "    longtitude = float(coords[1])\n",
    "    \n",
    "    transfers = []\n",
    "    for transfer in fields_tags[2].find_all('span'):\n",
    "        span = transfer.span\n",
    "        if span:\n",
    "            transfer = StationFormatter(span['title'])\n",
    "            if transfer:\n",
    "                transfers.append(transfer)\n",
    "    \n",
    "    if line == '4A' or line == '11A':\n",
    "        return None\n",
    "        \n",
    "    return {'name': name, 'line': line, 'opened': opened, \n",
    "            'latitude': latitude, 'longtitude': longtitude, 'connects': [], 'transfers': transfers}"
   ]
  },
  {
   "cell_type": "code",
   "execution_count": 6,
   "id": "4d7b0230-ea85-4d32-bc15-f6453005f10d",
   "metadata": {},
   "outputs": [],
   "source": [
    "stations = []\n",
    "\n",
    "j = 0\n",
    "for i in range(len(unhandled_stations)):\n",
    "    curr_station = ExtractStationData(unhandled_stations[i])\n",
    "    if curr_station:\n",
    "        stations.append(curr_station)\n",
    "\n",
    "        if (j > 0) and (stations[j]['line'] == stations[j - 1]['line']):\n",
    "            stations[j]['connects'].append(stations[j - 1]['name'])\n",
    "            stations[j - 1]['connects'].append(stations[j]['name'])\n",
    "        j += 1"
   ]
  },
  {
   "cell_type": "code",
   "execution_count": 7,
   "id": "18dffcf6-bd5f-4743-804f-64ef40d6de73",
   "metadata": {},
   "outputs": [],
   "source": [
    "with open(r'Stations.yaml', 'w') as file:\n",
    "    documents = yaml.dump(stations, file)"
   ]
  },
  {
   "cell_type": "markdown",
   "id": "d18a7a66-2d73-496d-b58e-249ef1bbe04b",
   "metadata": {},
   "source": [
    "## Задание 2. \n",
    "Написать скрипт, который принимает файл в формате предыдущего задания, а также набор дополнительных параметров (через командные аргументы или конфигурационный файл): среднюю скорость движения поездов $V$, среднее время стоянки\n",
    "на станциях $T_{st}$, среднее время перехода $T_{tr}$, а также файл с уточнениями времён пересадки. Этот файл состоит из троек (станция 1, станция 2, время пересадки). Значения из\n",
    "него должны использоваться вместо значения по умолчанию. Подобный файл со значениями $T^{ij}_{tr}$ необходимо составить для монорельса и МЦК (можно также добавить в него и другие переходы). Скрипт создаёт граф в формате TGF, вершинами которого являются станции. Рёбрами соединены станции, имеющие между собой перегон или переход. Вес\n",
    "ребра между станциями $і$ и $j$ рассчитывается по формуле:\n",
    "\n",
    "$$\n",
    "T_{ij} =\n",
    "  \\begin{cases}\n",
    "    T_{st} + d_{ij}/V       & \\quad \\text{если между станциями есть перегон,}\\\\\n",
    "    T^{ij}_{tr}  & \\quad \\text{если между станциями есть переход.}\n",
    "  \\end{cases}\n",
    "$$\n",
    "\n",
    "где $d_{ij}$ - расстояние между станциями, рассчитанное на основании их координат, $T^{ij}_{tr}$ -\n",
    "время пересадки (берётся из файла если данной пары в файле нет, то берётся значение\n",
    "по умолчанию $Т_{tr}$)."
   ]
  },
  {
   "cell_type": "code",
   "execution_count": 8,
   "id": "7fd97d16-244a-4ce0-883c-60c3d9a4efb7",
   "metadata": {},
   "outputs": [],
   "source": [
    "import configparser\n",
    "\n",
    "config = configparser.ConfigParser()\n",
    "config.read_file(open('config.txt'))\n",
    "v = float(config.get('config', 'v'))\n",
    "t_tr = float(config.get('config', 't_tr'))\n",
    "t_st = float(config.get('config', 't_st'))\n",
    "transfer_time_file = config.get('config', 'transfer_time_file')"
   ]
  },
  {
   "cell_type": "code",
   "execution_count": 9,
   "id": "cb9f32cf-4bdd-4f0a-8174-9b9ec4025ef0",
   "metadata": {},
   "outputs": [],
   "source": [
    "from math import acos, sin, cos\n",
    "\n",
    "def CountConnectTime(v, t_st, longtitude1, latitude1, longtitude2, latitude2):\n",
    "    arg = sin(latitude1)*sin(latitude2)+cos(latitude1)*cos(latitude2)*cos(longtitude2-longtitude1)\n",
    "    if arg > 1:\n",
    "        return acos(1)*6371 / v + t_st \n",
    "    else:\n",
    "        return acos(arg)*6371 / v + t_st "
   ]
  },
  {
   "cell_type": "code",
   "execution_count": 10,
   "id": "ec7191fc-dd70-4e4a-8c2e-6aa673a51330",
   "metadata": {},
   "outputs": [],
   "source": [
    "stations = []\n",
    "\n",
    "with open(r'Stations.yaml') as stream:    \n",
    "    stations = yaml.safe_load(stream)\n",
    "    \n",
    "stations_counter = 0\n",
    "station_nums = {}\n",
    "\n",
    "# numerate stations\n",
    "for station in stations:\n",
    "    name = station['name'] + ', ' + station['line']\n",
    "    stations_counter += 1\n",
    "    station_nums[name] = stations_counter\n",
    "\n",
    "# add edges\n",
    "edges = []\n",
    "\n",
    "for i in range(stations_counter):\n",
    "    station = stations[i]\n",
    "    first_name = station['name'] + ', ' + station['line']\n",
    "    line = station['line']\n",
    "    \n",
    "    for second_station in station['transfers']:\n",
    "        second_name = second_station['name'] + ', ' + second_station['line']\n",
    "        edges.append((first_name, second_name, t_tr))\n",
    "    \n",
    "    if i and line == stations[i - 1]['line']:\n",
    "        second_name = stations[i - 1]['name'] + ', ' + stations[i - 1]['line']\n",
    "        longtitude1, latitude1 = station['longtitude'], station['latitude']\n",
    "        longtitude2, latitude2 = stations[i - 1]['longtitude'], stations[i - 1]['latitude']\n",
    "        try:\n",
    "            edges.append((first_name, second_name, \n",
    "                      CountConnectTime(v, t_st, longtitude1, latitude1, longtitude2, latitude2)))\n",
    "        except:\n",
    "            print(first_name, second_name, longtitude1, latitude1, longtitude2, latitude2)\n",
    "        #edges.append((first_name, second_name, \n",
    "                      #CountConnectTime(v, t_st, longtitude1, latitude1, longtitude2, latitude2)))\n",
    "    \n",
    "    if i < stations_counter - 1 and line == stations[i + 1]['line']:\n",
    "        second_name = stations[i + 1]['name'] + ', ' + stations[i + 1]['line']\n",
    "        longtitude1, latitude1 = station['longtitude'], station['latitude']\n",
    "        longtitude2, latitude2 = stations[i + 1]['longtitude'], stations[i + 1]['latitude']\n",
    "        edges.append((first_name, second_name, \n",
    "                      CountConnectTime(v, t_st, longtitude1, latitude1, longtitude2, latitude2)))"
   ]
  },
  {
   "cell_type": "code",
   "execution_count": 11,
   "id": "8d3eca57-cef8-4010-9133-5ab626c5b800",
   "metadata": {},
   "outputs": [],
   "source": [
    "with open(\"SubWays.tgf\", \"w\") as fp:\n",
    "    for station in station_nums:\n",
    "        fp.write(str(station_nums[station]) + \" \\\"\" + str(station) + \"\\\"\" + \"\\n\")\n",
    "    \n",
    "    fp.write(\"#\\n\")\n",
    "    \n",
    "    for edge in edges:\n",
    "        fp.write(str(station_nums[edge[0]]) + \" \" + str(station_nums[edge[1]]) + \" \" + str(edge[2]) + \"\\n\")"
   ]
  },
  {
   "cell_type": "code",
   "execution_count": 12,
   "id": "ac845e2a-ec7e-47e6-8a52-6b9068500d63",
   "metadata": {},
   "outputs": [],
   "source": [
    "#stations"
   ]
  },
  {
   "cell_type": "markdown",
   "id": "682539ab-db24-4d15-ac0e-079ae67dad11",
   "metadata": {},
   "source": [
    "## Задание 3. \n",
    "Написать скрипт, который принимает на вход граф в формате TGF и\n",
    "записывает в файл матрицу длин кратчайших путей $W = {w_{ij}}$ для него, а также рисует\n",
    "гистограмму распределения средних времён достижения для станций. Для рисования\n",
    "использовать библиотеку matplotlib. Среднее время достижения станции $і$ определяется как\n",
    "$$\n",
    "t^*_i = \\sum_{j \\neq i}  \\frac{w_{ij}}{N}\n",
    "$$\n",
    "где $N$ - общее количество станций."
   ]
  },
  {
   "cell_type": "code",
   "execution_count": 13,
   "id": "ad64b1d8-efae-4eb4-8f1c-44b2e63b97ff",
   "metadata": {},
   "outputs": [],
   "source": [
    "lines = []\n",
    "with open(\"SubWays.tgf\", \"r\") as fp:\n",
    "    lines = fp.readlines()"
   ]
  },
  {
   "cell_type": "code",
   "execution_count": 14,
   "id": "596cacd6-c4ae-4e2c-a2c3-4860d3b6442b",
   "metadata": {},
   "outputs": [
    {
     "data": {
      "text/plain": [
       "array([[0.        , 3.56418664,        inf, ...,        inf,        inf,\n",
       "               inf],\n",
       "       [3.56418664, 0.        , 4.66596147, ...,        inf,        inf,\n",
       "               inf],\n",
       "       [       inf, 4.66596147, 0.        , ...,        inf,        inf,\n",
       "               inf],\n",
       "       ...,\n",
       "       [       inf,        inf,        inf, ..., 0.        , 3.64933369,\n",
       "               inf],\n",
       "       [       inf,        inf,        inf, ..., 3.64933369, 0.        ,\n",
       "        4.08312841],\n",
       "       [       inf,        inf,        inf, ...,        inf, 4.08312841,\n",
       "        0.        ]])"
      ]
     },
     "execution_count": 14,
     "metadata": {},
     "output_type": "execute_result"
    }
   ],
   "source": [
    "N = lines.index('#\\n')\n",
    "W = np.ones((N, N)) * np.inf\n",
    "\n",
    "for i in range(N + 1, len(lines)):\n",
    "    edge = lines[i].split()\n",
    "#     print(int(edge[0]) - 1, int(edge[1]) - 1)\n",
    "    W[int(edge[0]) - 1][int(edge[1]) - 1] = float(edge[2])\n",
    "\n",
    "for i in range(N):\n",
    "    W[i][i] = 0.\n",
    "    \n",
    "W\n",
    "    \n",
    "#l = len(W[0])\n",
    "#with open(\"W.txt\", \"w\") as f:\n",
    "#    for i in range(l):\n",
    "#        for j in range(l):\n",
    "#            f.write(str(W[i][j]) + '\\n')"
   ]
  },
  {
   "cell_type": "code",
   "execution_count": 15,
   "id": "cd714c19-b9a8-488d-8bc9-6301684190f8",
   "metadata": {},
   "outputs": [],
   "source": [
    "d = W\n",
    "\n",
    "for k in range(N):\n",
    "    for i in range(N):\n",
    "        for j in range(N):\n",
    "            d[i][j] = min(d[i][j], d[i][k] + d[k][j])\n",
    "            \n",
    "mean_times = d.mean(axis = 1)"
   ]
  },
  {
   "cell_type": "code",
   "execution_count": 16,
   "id": "ce520d40-7af0-4ed1-a959-bec9001a2073",
   "metadata": {},
   "outputs": [],
   "source": [
    "#mean_times"
   ]
  },
  {
   "cell_type": "code",
   "execution_count": 17,
   "id": "ed1b82bc-b4aa-4a42-97f8-bf6192436696",
   "metadata": {},
   "outputs": [
    {
     "data": {
      "image/png": "[encoded data removed]",
      "text/plain": [
       "<Figure size 432x288 with 1 Axes>"
      ]
     },
     "metadata": {
      "needs_background": "light"
     },
     "output_type": "display_data"
    }
   ],
   "source": [
    "plt.hist(mean_times, rwidth=0.7, color='g')\n",
    "plt.xlabel('Среднее время достижения станции, мин')\n",
    "plt.ylabel('Количество станций')\n",
    "plt.title('Гистограмма распределения средних времён достижений для станций')\n",
    "axes = plt.gca()\n",
    "plt.show()"
   ]
  },
  {
   "cell_type": "markdown",
   "id": "80d09f15-5a02-4c69-a9d1-375456d24215",
   "metadata": {},
   "source": [
    "## Задание 4. \n",
    "Написать скрипт, который по данным предыдущих заданий и списку дополнительных станций выводит\n",
    "таблицу с изменением среднего времени достижения для каждой станции при временном закрытии указанных станций (из дополнительного списка). Подготовить списки для временно закрытой всей БКЛ (линии 11). Исследовать, как изменилось время достижения станции Университет после открытия (в текущем виде) БКЛ. Таблица выводится в формате HTML и упорядочена в алфавитном порядке по наименованиям станций. "
   ]
  },
  {
   "cell_type": "code",
   "execution_count": 18,
   "id": "1b074f9f-e41e-46a3-81ea-f96b3177d7aa",
   "metadata": {},
   "outputs": [],
   "source": [
    "stations_2 = stations\n",
    "mean_times_2 = list(mean_times)\n",
    "list_idx = [] # список индексов удаляемых станций\n",
    "with open(\"Ex stations.txt\", \"r\") as f:\n",
    "    ex_stations = f.readlines() # список станций, которые нужно удалить\n",
    "for station_ex in ex_stations:\n",
    "    station_ex = station_ex.rstrip(\"\\n\")\n",
    "    i = station_nums[station_ex] - 1 # станция, которую хотим удалить\n",
    "    for trans in stations_2[i]['transfers']:\n",
    "        name_transfer = trans['name'] + ', ' + trans['line'] \n",
    "        j = station_nums[name_transfer] - 1 # станция, на которую была пересадка\n",
    "        stations_2[j]['transfers'].remove({'line': stations_2[i]['line'], 'name': stations_2[i]['name']})\n",
    "    if len(stations_2[i]['connects']) == 1:\n",
    "        if stations_2[i-1]['line'] == stations_2[i]['line']:\n",
    "            stations_2[i-1]['connects'].remove(station_ex.split(\", \")[0])\n",
    "        elif stations_2[i+1]['line'] == stations_2[i]['line']:\n",
    "            stations_2[i+1]['connects'].remove(station_ex.split(\", \")[0])\n",
    "    elif len(stations_2[i]['connects']) == 2:\n",
    "        stations_2[i+1]['connects'].remove(station_ex.split(\", \")[0])\n",
    "        stations_2[i-1]['connects'].remove(station_ex.split(\", \")[0])\n",
    "        stations_2[i+1]['connects'].append(stations_2[i-1]['name'])\n",
    "        stations_2[i-1]['connects'].append(stations_2[i+1]['name'])\n",
    "    list_idx.append(i)\n",
    "list_idx.sort(reverse=True)\n",
    "for i in list_idx:\n",
    "    stations_2.pop(i)\n",
    "    mean_times_2.pop(i)\n",
    "mean_times_2 = np.array(mean_times_2, dtype = float)"
   ]
  },
  {
   "cell_type": "code",
   "execution_count": 19,
   "id": "eb1e5436-a6ae-4aba-90c2-da7c7d4805ff",
   "metadata": {},
   "outputs": [],
   "source": [
    "stations_counter = 0\n",
    "station_nums = {}\n",
    "\n",
    "# numerate stations\n",
    "for station in stations_2:\n",
    "    name = station['name'] + ', ' + station['line']\n",
    "    stations_counter += 1\n",
    "    station_nums[name] = stations_counter\n",
    "\n",
    "# add edges\n",
    "edges = []\n",
    "\n",
    "for i in range(stations_counter):\n",
    "    station = stations_2[i]\n",
    "    first_name = station['name'] + ', ' + station['line']\n",
    "    line = station['line']\n",
    "    \n",
    "    for second_station in station['transfers']:\n",
    "        second_name = second_station['name'] + ', ' + second_station['line']\n",
    "        edges.append((first_name, second_name, t_tr))\n",
    "    \n",
    "    if i and line == stations_2[i - 1]['line']:\n",
    "        second_name = stations_2[i - 1]['name'] + ', ' + stations_2[i - 1]['line']\n",
    "        longtitude1, latitude1 = station['longtitude'], station['latitude']\n",
    "        longtitude2, latitude2 = stations_2[i - 1]['longtitude'], stations_2[i - 1]['latitude']\n",
    "        try:\n",
    "            edges.append((first_name, second_name, \n",
    "                      CountConnectTime(v, t_st, longtitude1, latitude1, longtitude2, latitude2)))\n",
    "        except:\n",
    "            print(first_name, second_name, longtitude1, latitude1, longtitude2, latitude2)\n",
    "        #edges.append((first_name, second_name, \n",
    "                      #CountConnectTime(v, t_st, longtitude1, latitude1, longtitude2, latitude2)))\n",
    "    \n",
    "    if i < stations_counter - 1 and line == stations_2[i + 1]['line']:\n",
    "        second_name = stations_2[i + 1]['name'] + ', ' + stations_2[i + 1]['line']\n",
    "        longtitude1, latitude1 = station['longtitude'], station['latitude']\n",
    "        longtitude2, latitude2 = stations_2[i + 1]['longtitude'], stations_2[i + 1]['latitude']\n",
    "        edges.append((first_name, second_name, \n",
    "                      CountConnectTime(v, t_st, longtitude1, latitude1, longtitude2, latitude2)))"
   ]
  },
  {
   "cell_type": "code",
   "execution_count": 20,
   "id": "e65c23c7-1d11-4cc0-9415-12a3ca0cc230",
   "metadata": {},
   "outputs": [],
   "source": [
    "with open(\"SubWays.tgf\", \"w\") as fp:\n",
    "    for station in station_nums:\n",
    "        fp.write(str(station_nums[station]) + \" \\\"\" + str(station) + \"\\\"\" + \"\\n\")\n",
    "    \n",
    "    fp.write(\"#\\n\")\n",
    "    \n",
    "    for edge in edges:\n",
    "        fp.write(str(station_nums[edge[0]]) + \" \" + str(station_nums[edge[1]]) + \" \" + str(edge[2]) + \"\\n\")"
   ]
  },
  {
   "cell_type": "code",
   "execution_count": 21,
   "id": "1fd9ece7-35e0-4498-ab4c-6d5bd001a097",
   "metadata": {},
   "outputs": [],
   "source": [
    "lines = []\n",
    "with open(\"SubWays.tgf\", \"r\") as fp:\n",
    "    lines = fp.readlines()"
   ]
  },
  {
   "cell_type": "code",
   "execution_count": 22,
   "id": "4d966f9f-2534-410c-a304-8101fbfc0fd5",
   "metadata": {},
   "outputs": [],
   "source": [
    "N = lines.index('#\\n')\n",
    "W = np.ones((N, N)) * np.inf\n",
    "\n",
    "for i in range(N + 1, len(lines)):\n",
    "    edge = lines[i].split()\n",
    "#     print(int(edge[0]) - 1, int(edge[1]) - 1)\n",
    "    W[int(edge[0]) - 1][int(edge[1]) - 1] = float(edge[2])\n",
    "\n",
    "for i in range(N):\n",
    "    W[i][i] = 0."
   ]
  },
  {
   "cell_type": "code",
   "execution_count": 23,
   "id": "a3440e84-25de-43e0-9baa-6977d4aa7d93",
   "metadata": {},
   "outputs": [],
   "source": [
    "d = W\n",
    "\n",
    "for k in range(N):\n",
    "    for i in range(N):\n",
    "        for j in range(N):\n",
    "            d[i][j] = min(d[i][j], d[i][k] + d[k][j])\n",
    "            \n",
    "mean_times_new = d.mean(axis = 1) # закрытые станции"
   ]
  },
  {
   "cell_type": "code",
   "execution_count": 24,
   "id": "f675cc45-2711-4049-bf7a-dd6c9c040a8c",
   "metadata": {},
   "outputs": [],
   "source": [
    "import pandas as pd\n",
    "# если отрицательное число (время), то время после закрытия станций увеличилось\n",
    "delta = mean_times_2 - mean_times_new\n",
    "names = []\n",
    "vals = []\n",
    "for i in range(len(stations_2)):\n",
    "    names.append(stations_2[i]['name'])\n",
    "    vals.append(delta[i])\n",
    "data = {'name': names, 'val': vals}\n",
    "df = pd.DataFrame.from_dict(data)\n",
    "df = df.sort_values('name')\n",
    "df_html = df.to_html()\n",
    "\n",
    "with open(\"Table of times.html\", \"w\") as f_html:\n",
    "    f_html.write(df_html)\n"
   ]
  },
  {
   "cell_type": "code",
   "execution_count": null,
   "id": "354c6e0a-d1e5-41f0-bba6-9dace603a09b",
   "metadata": {},
   "outputs": [],
   "source": []
  }
 ],
 "metadata": {
  "kernelspec": {
   "display_name": "Python 3 (ipykernel)",
   "language": "python",
   "name": "python3"
  },
  "language_info": {
   "codemirror_mode": {
    "name": "ipython",
    "version": 3
   },
   "file_extension": ".py",
   "mimetype": "text/x-python",
   "name": "python",
   "nbconvert_exporter": "python",
   "pygments_lexer": "ipython3",
   "version": "3.9.14"
  }
 },
 "nbformat": 4,
 "nbformat_minor": 5
}
