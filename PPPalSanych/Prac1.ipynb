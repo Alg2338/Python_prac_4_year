{
 "cells": [
  {
   "cell_type": "code",
   "execution_count": 3,
   "id": "fcf39bfc",
   "metadata": {},
   "outputs": [],
   "source": [
    "import re\n",
    "\n",
    "def HandleLibLine(old_string):\n",
    "\n",
    "\n",
    "\n",
    "#     3_rd part\n",
    "    regexp = r'\\\\bf (\\d+)'\n",
    "    substitute = r'V. \\\\bf \\1'\n",
    "    new_string = re.sub(regexp, substitute, old_string)\n",
    "    if new_string.find(\"Journal\") != -1:\n",
    "        regexp = r'(\\d+[-]+\\d+)'\n",
    "        substitute = r'pp.\\1'\n",
    "        new_string = re.sub(regexp, substitute, new_string)\n",
    "    \n",
    "#     2_nd part\n",
    "    regexp = r'(.*),(.*\\(.*\\d{4}.*\\)),(.*)\\.'\n",
    "    substitute = r'\\1,\\3, \\2.'\n",
    "    new_string = re.sub(regexp, substitute, new_string)\n",
    "\n",
    "#     1_st part\n",
    "    \n",
    "    new_string = re.sub(r'(^|and )\\s*([A-Z])\\w+ ([A-Z])(\\.|\\w+) ([A-Z]\\w+)', r'\\1\\2. \\3. \\5', new_string)\n",
    "    new_string = re.sub(r'(^|and )\\s*([A-Z])\\w+ ([A-Z]\\w+)', r'\\1\\2. \\3', new_string)\n",
    "    new_string = re.sub(r'(^|and )\\s*([A-Z])\\w*-([A-Z])\\w* ([A-Z]\\w+)', r'\\1\\2.-\\3. \\4', new_string)\n",
    "    new_string = re.sub(r'(^|and )\\s*([A-Z])\\w*-([A-Z])\\w* ([A-Z]\\w+)', r'\\1\\2.-\\3. \\4', new_string)\n",
    "\n",
    "\n",
    "    return new_string\n"
   ]
  },
  {
   "cell_type": "code",
   "execution_count": 4,
   "id": "732c7c12",
   "metadata": {},
   "outputs": [],
   "source": [
    "with open(\"var_1_2.tex\", \"r\") as file:\n",
    "    Lines = file.readlines()\n",
    "    NewLines = [\"\\\\documentclass[a4paper,12pt]{article}\\n\\\\usepackage{cmap}\\n\\\\usepackage[T2A]{fontenc}\\n\\\\usepackage[utf8]{inputenc}\\n\\\\usepackage[english,russian]{babel}\\n\\n\\\\newcommand\\AW{Addison\\kern.1em--Wesley}\\n\\n\\\\begin{document}\"]\n",
    "    \n",
    "    N = len(Lines)\n",
    "    i = 0\n",
    "    while Lines[i].find('References') == -1:\n",
    "        NewLines.append(Lines[i])\n",
    "        i += 1\n",
    "    NewLines.append(\"\\\\begin{thebibliography}{99}\\n\")\n",
    "    \n",
    "    i += 1\n",
    "    j = 0\n",
    "    while i < N:\n",
    "        line_to_handle = \"\"\n",
    "        while i < N and Lines[i] != '\\\\bib\\n':\n",
    "            i += 1\n",
    "        \n",
    "        i += 2\n",
    "        while i < N and Lines[i].replace('\\n','') != '':\n",
    "            line_to_handle += \" \"\n",
    "            line_to_handle += Lines[i].replace('\\n','')\n",
    "            i += 1\n",
    "        \n",
    "        if line_to_handle != \"\":\n",
    "            j += 1\n",
    "            NewLines.append(\"\\\\bibitem{\" + str(j) + \"}\" + HandleLibLine(line_to_handle) + \"\\n\")\n",
    "    \n",
    "    NewLines.append(\"\\\\bye\\n\\\\end{thebibliography}\\n\\\\end{document}\")\n",
    "    with open(\"new.tex\", \"w\") as new_file:\n",
    "        new_file.writelines(NewLines)\n"
   ]
  },
  {
   "cell_type": "code",
   "execution_count": null,
   "id": "a318b82d",
   "metadata": {},
   "outputs": [],
   "source": []
  }
 ],
 "metadata": {
  "kernelspec": {
   "display_name": "Python 3 (ipykernel)",
   "language": "python",
   "name": "python3"
  },
  "language_info": {
   "codemirror_mode": {
    "name": "ipython",
    "version": 3
   },
   "file_extension": ".py",
   "mimetype": "text/x-python",
   "name": "python",
   "nbconvert_exporter": "python",
   "pygments_lexer": "ipython3",
   "version": "3.9.14"
  }
 },
 "nbformat": 4,
 "nbformat_minor": 5
}
